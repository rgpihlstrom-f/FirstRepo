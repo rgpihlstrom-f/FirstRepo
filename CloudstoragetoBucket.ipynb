{
 "cells": [
  {
   "cell_type": "code",
   "execution_count": null,
   "id": "199a8f85-a8dc-480a-9f87-0dfda5b42b7f",
   "metadata": {},
   "outputs": [],
   "source": [
    "# from google.cloud import bigquery\n",
    "# client = bigquery.Client()\n",
    "# bucket_name = 'my-bucket'\n",
    "project = \"bigquery-public-data\"\n",
    "dataset_id = \"samples\"\n",
    "table_id = \"shakespeare\"\n",
    "\n",
    "destination_uri = \"gs://{}/{}\".format(bucket_name, \"shakespeare.csv\")\n",
    "dataset_ref = bigquery.DatasetReference(project, dataset_id)\n",
    "table_ref = dataset_ref.table(table_id)\n",
    "\n",
    "extract_job = client.extract_table(\n",
    "    table_ref,\n",
    "    destination_uri,\n",
    "    # Location must match that of the source table.\n",
    "    location=\"US\",\n",
    ")  # API request\n",
    "extract_job.result()  # Waits for job to complete.\n",
    "\n",
    "print(\n",
    "    \"Exported {}:{}.{} to {}\".format(project, dataset_id, table_id, destination_uri)\n",
    ")"
   ]
  },
  {
   "cell_type": "code",
   "execution_count": null,
   "id": "c6888432-3d5c-4531-975c-9e061d04ea42",
   "metadata": {},
   "outputs": [],
   "source": [
    "from google.cloud import bigquery\n",
    "\n",
    "\n",
    "sql = \"\"\"\n",
    "DECLARE\n",
    "  currDate DEFAULT (\n",
    "  SELECT\n",
    "    MAX(RC_yrmon)\n",
    "  FROM\n",
    "    `ford-86de4da80c10637d78887347.US_market_overview_Mrkting.C_RetConq_LoyDef`\n",
    "  LIMIT\n",
    "    1);\n",
    "SELECT\n",
    "  *\n",
    "FROM\n",
    "  `ford-86de4da80c10637d78887347.US_market_overview_Mrkting.C_RetConq_LoyDef`\n",
    "WHERE\n",
    "  RC_yrmon = currDate LIMIT 9223372036854775807\"\"\"\n",
    "\n",
    "\n",
    "client = bigquery.Client()\n",
    "# sql = \"\"\"SELECT * FROM `prj-dfdl-519-kantr-p-519.bq_t00045_519_kantr_lc_vw.sov_vw` LIMIT 1000\"\"\"\n",
    "test = client.query(sql).to_dataframe()\n",
    "test.head()"
   ]
  },
  {
   "cell_type": "code",
   "execution_count": null,
   "id": "0d0ccd5f-6b13-4a35-bf45-4c9d6096cb6a",
   "metadata": {},
   "outputs": [],
   "source": [
    "# Checking "
   ]
  },
  {
   "cell_type": "code",
   "execution_count": 14,
   "id": "e0e1a617-d2d0-4644-9306-04ef3932ecb5",
   "metadata": {},
   "outputs": [],
   "source": [
    "sql = \"\"\"\n",
    "DECLARE\n",
    "  currDate DEFAULT (\n",
    "  SELECT\n",
    "    MAX(RC_yrmon)\n",
    "  FROM\n",
    "    `ford-86de4da80c10637d78887347.US_market_overview_Mrkting.C_RetConq_LoyDef`\n",
    "  LIMIT\n",
    "    1);\n",
    "    \n",
    "EXPORT DATA\n",
    "  OPTIONS (\n",
    "    uri = 'gs://checking_dashboard_data/catalystdata/filename*.csv',\n",
    "    format = 'CSV',\n",
    "    overwrite = true,\n",
    "    header = true,\n",
    "    field_delimiter = ';')\n",
    "AS (\n",
    "  SELECT\n",
    "  *\n",
    "FROM\n",
    "  `ford-86de4da80c10637d78887347.US_market_overview_Mrkting.C_RetConq_LoyDef`\n",
    "WHERE\n",
    "  RC_yrmon = currDate limit 61000);\"\"\""
   ]
  },
  {
   "cell_type": "code",
   "execution_count": 15,
   "id": "efb69bee-e992-4cef-92f7-375a2979acf1",
   "metadata": {},
   "outputs": [
    {
     "data": {
      "text/plain": [
       "QueryJob<project=ford-86de4da80c10637d78887347, location=US, id=14b2b50d-7b76-4836-aa85-e0c9ee5cc687>"
      ]
     },
     "execution_count": 15,
     "metadata": {},
     "output_type": "execute_result"
    }
   ],
   "source": [
    "from google.cloud import bigquery\n",
    "\n",
    "client = bigquery.Client()\n",
    "# sql = \"\"\"SELECT * FROM `prj-dfdl-519-kantr-p-519.bq_t00045_519_kantr_lc_vw.sov_vw` LIMIT 1000\"\"\"\n",
    "client.query(sql)\n",
    "# .to_dataframe()\n",
    "# test = client.query(sql).to_dataframe()\n",
    "# test.head()"
   ]
  },
  {
   "cell_type": "code",
   "execution_count": null,
   "id": "4f48d6f9-7fd9-40b7-a725-e2bfc7e5c7a9",
   "metadata": {},
   "outputs": [],
   "source": []
  }
 ],
 "metadata": {
  "environment": {
   "kernel": "python3",
   "name": "tf2-cpu.2-11.m112",
   "type": "gcloud",
   "uri": "gcr.io/deeplearning-platform-release/tf2-cpu.2-11:m112"
  },
  "kernelspec": {
   "display_name": "Python 3",
   "language": "python",
   "name": "python3"
  },
  "language_info": {
   "codemirror_mode": {
    "name": "ipython",
    "version": 3
   },
   "file_extension": ".py",
   "mimetype": "text/x-python",
   "name": "python",
   "nbconvert_exporter": "python",
   "pygments_lexer": "ipython3",
   "version": "3.10.12"
  }
 },
 "nbformat": 4,
 "nbformat_minor": 5
}
